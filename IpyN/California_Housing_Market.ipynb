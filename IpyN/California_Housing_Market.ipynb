{
 "cells": [
  {
   "cell_type": "markdown",
   "metadata": {},
   "source": [
    "#Prediction of California House Price"
   ]
  },
  {
   "cell_type": "code",
   "execution_count": null,
   "metadata": {
    "collapsed": true
   },
   "outputs": [],
   "source": [
    "from sklearn.datasets.california_housing import fetch_california_housing\n",
    "from sklearn.cross_validation import train_test_split\n",
    "import matplotlib.pyplot as pl\n",
    "%matplotlib inline\n",
    "\n",
    "FIGSIZE = (11, 7)\n",
    "\n",
    "cal_housing = fetch_california_housing()\n",
    "\n",
    "# split 80/20 train-test\n",
    "X_train, X_test, y_train, y_test = train_test_split(cal_housing.data,\n",
    "                                                    cal_housing.target,\n",
    "                                                    test_size=0.2,\n",
    "                                                    random_state=1)\n",
    "names = cal_housing.feature_names"
   ]
  },
  {
   "cell_type": "code",
   "execution_count": 24,
   "metadata": {
    "collapsed": false
   },
   "outputs": [
    {
     "data": {
      "text/html": [
       "<div style=\"max-height:1000px;max-width:1500px;overflow:auto;\">\n",
       "<table border=\"1\" class=\"dataframe\">\n",
       "  <thead>\n",
       "    <tr style=\"text-align: right;\">\n",
       "      <th></th>\n",
       "      <th>MedInc</th>\n",
       "      <th>HouseAge</th>\n",
       "      <th>AveRooms</th>\n",
       "      <th>AveBedrms</th>\n",
       "      <th>Population</th>\n",
       "      <th>AveOccup</th>\n",
       "      <th>Latitude</th>\n",
       "      <th>Longitude</th>\n",
       "      <th>MedHouseVal</th>\n",
       "    </tr>\n",
       "  </thead>\n",
       "  <tbody>\n",
       "    <tr>\n",
       "      <th>0</th>\n",
       "      <td> 3.1908</td>\n",
       "      <td> 52</td>\n",
       "      <td> 5.000000</td>\n",
       "      <td> 1.014184</td>\n",
       "      <td>  879</td>\n",
       "      <td> 3.117021</td>\n",
       "      <td> 37.71</td>\n",
       "      <td>-122.43</td>\n",
       "      <td> 2.556</td>\n",
       "    </tr>\n",
       "    <tr>\n",
       "      <th>1</th>\n",
       "      <td> 3.6094</td>\n",
       "      <td> 42</td>\n",
       "      <td> 4.900990</td>\n",
       "      <td> 0.957096</td>\n",
       "      <td>  971</td>\n",
       "      <td> 3.204620</td>\n",
       "      <td> 37.95</td>\n",
       "      <td>-122.35</td>\n",
       "      <td> 1.146</td>\n",
       "    </tr>\n",
       "    <tr>\n",
       "      <th>2</th>\n",
       "      <td> 2.6250</td>\n",
       "      <td> 16</td>\n",
       "      <td> 8.333333</td>\n",
       "      <td> 1.666667</td>\n",
       "      <td>   20</td>\n",
       "      <td> 3.333333</td>\n",
       "      <td> 37.90</td>\n",
       "      <td>-121.24</td>\n",
       "      <td> 1.375</td>\n",
       "    </tr>\n",
       "    <tr>\n",
       "      <th>3</th>\n",
       "      <td> 1.5143</td>\n",
       "      <td> 34</td>\n",
       "      <td> 3.805981</td>\n",
       "      <td> 1.149526</td>\n",
       "      <td> 3538</td>\n",
       "      <td> 2.580598</td>\n",
       "      <td> 34.02</td>\n",
       "      <td>-118.35</td>\n",
       "      <td> 1.188</td>\n",
       "    </tr>\n",
       "    <tr>\n",
       "      <th>4</th>\n",
       "      <td> 7.3356</td>\n",
       "      <td> 38</td>\n",
       "      <td> 5.894904</td>\n",
       "      <td> 1.057325</td>\n",
       "      <td>  750</td>\n",
       "      <td> 2.388535</td>\n",
       "      <td> 33.89</td>\n",
       "      <td>-118.39</td>\n",
       "      <td> 4.227</td>\n",
       "    </tr>\n",
       "  </tbody>\n",
       "</table>\n",
       "</div>"
      ],
      "text/plain": [
       "   MedInc  HouseAge  AveRooms  AveBedrms  Population  AveOccup  Latitude  \\\n",
       "0  3.1908        52  5.000000   1.014184         879  3.117021     37.71   \n",
       "1  3.6094        42  4.900990   0.957096         971  3.204620     37.95   \n",
       "2  2.6250        16  8.333333   1.666667          20  3.333333     37.90   \n",
       "3  1.5143        34  3.805981   1.149526        3538  2.580598     34.02   \n",
       "4  7.3356        38  5.894904   1.057325         750  2.388535     33.89   \n",
       "\n",
       "   Longitude  MedHouseVal  \n",
       "0    -122.43        2.556  \n",
       "1    -122.35        1.146  \n",
       "2    -121.24        1.375  \n",
       "3    -118.35        1.188  \n",
       "4    -118.39        4.227  "
      ]
     },
     "execution_count": 24,
     "metadata": {},
     "output_type": "execute_result"
    }
   ],
   "source": [
    "import pandas as pd\n",
    "X_df = pd.DataFrame(data=X_train, columns=names)\n",
    "X_df['MedHouseVal'] = y_train\n",
    "X_df.head()"
   ]
  },
  {
   "cell_type": "code",
   "execution_count": 25,
   "metadata": {
    "collapsed": false
   },
   "outputs": [
    {
     "data": {
      "image/png": "[encoded data removed]",
      "text/plain": [
       "<matplotlib.figure.Figure at 0x15b0e710>"
      ]
     },
     "metadata": {},
     "output_type": "display_data"
    }
   ],
   "source": [
    "X_df['MedHouseVal'] = y_train\n",
    "_ = X_df.hist(column=['Latitude', 'Longitude', 'MedInc', 'MedHouseVal'], figsize=FIGSIZE)"
   ]
  },
  {
   "cell_type": "code",
   "execution_count": null,
   "metadata": {
    "collapsed": true
   },
   "outputs": [],
   "source": [
    "import time\n",
    "from collections import defaultdict\n",
    "from sklearn.metrics import mean_absolute_error\n",
    "from sklearn.linear_model import Ridge\n",
    "from sklearn.ensemble import RandomForestRegressor\n",
    "from sklearn.pipeline import Pipeline\n",
    "from sklearn.preprocessing import StandardScaler\n",
    "from sklearn.dummy import DummyRegressor\n",
    "from sklearn.svm import SVR\n",
    "\n",
    "res = defaultdict(dict)\n",
    "\n",
    "def benchmark(est, name=None):\n",
    "    if not name:\n",
    "        name = est.__class__.__name__\n",
    "    t0 = time.clock()\n",
    "    est.fit(X_train, y_train)\n",
    "    res[name]['train_time'] = time.clock() - t0\n",
    "    t0 = time.clock()\n",
    "    pred = est.predict(X_test)\n",
    "    res[name]['test_time'] = time.clock() - t0\n",
    "    res[name]['MAE'] = mean_absolute_error(y_test, pred)\n",
    "    return est\n",
    "    \n",
    "benchmark(DummyRegressor())\n",
    "benchmark(Ridge(alpha=0.0001, normalize=True))\n",
    "benchmark(Pipeline([('std', StandardScaler()), \n",
    "                    ('svr', SVR(kernel='rbf', C=10.0, gamma=0.1, tol=0.001))]), name='SVR')\n",
    "benchmark(RandomForestRegressor(n_estimators=100, max_features=5, random_state=0, \n",
    "                                bootstrap=False, n_jobs=4))\n",
    "est = benchmark(GradientBoostingRegressor(n_estimators=500, max_depth=4, learning_rate=0.1,\n",
    "                                          loss='huber', min_samples_leaf=3, \n",
    "                                          random_state=0))\n",
    "\n",
    "res_df = pd.DataFrame(data=res).T\n",
    "res_df[['train_time', 'test_time', 'MAE']].sort('MAE', ascending=False)"
   ]
  },
  {
   "cell_type": "code",
   "execution_count": null,
   "metadata": {
    "collapsed": true
   },
   "outputs": [],
   "source": []
  }
 ],
 "metadata": {
  "kernelspec": {
   "display_name": "Python 2",
   "language": "python",
   "name": "python2"
  },
  "language_info": {
   "codemirror_mode": {
    "name": "ipython",
    "version": 2
   },
   "file_extension": ".py",
   "mimetype": "text/x-python",
   "name": "python",
   "nbconvert_exporter": "python",
   "pygments_lexer": "ipython2",
   "version": "2.7.7"
  }
 },
 "nbformat": 4,
 "nbformat_minor": 0
}
