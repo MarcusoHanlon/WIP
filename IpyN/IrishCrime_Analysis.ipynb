{
 "cells": [
  {
   "cell_type": "code",
   "execution_count": 4,
   "metadata": {
    "collapsed": false
   },
   "outputs": [
    {
     "name": "stderr",
     "output_type": "stream",
     "text": [
      ":0: FutureWarning: IPython widgets are experimental and may change in the future.\n"
     ]
    },
    {
     "data": {
      "text/html": [
       "\n",
       "           <script>\n",
       "               \n",
       "                function vct_load_lib(url, callback){\n",
       "                      if(typeof d3 !== 'undefined' &&\n",
       "                         url === 'http://d3js.org/d3.v3.min.js'){\n",
       "                        callback()\n",
       "                      }\n",
       "                      var s = document.createElement('script');\n",
       "                      s.src = url;\n",
       "                      s.async = true;\n",
       "                      s.onreadystatechange = s.onload = callback;\n",
       "                      s.onerror = function(){\n",
       "                        console.warn(\"failed to load library \" + url);\n",
       "                        };\n",
       "                      document.getElementsByTagName(\"head\")[0].appendChild(s);\n",
       "                };\n",
       "                var vincent_event = new CustomEvent(\n",
       "                  \"vincent_libs_loaded\",\n",
       "                  {bubbles: true, cancelable: true}\n",
       "                );\n",
       "                \n",
       "               function load_all_libs(){\n",
       "                  console.log('Loading Vincent libs...')\n",
       "                  vct_load_lib('http://d3js.org/d3.v3.min.js', function(){\n",
       "                  vct_load_lib('http://d3js.org/d3.geo.projection.v0.min.js', function(){\n",
       "                  vct_load_lib('http://wrobstory.github.io/d3-cloud/d3.layout.cloud.js', function(){\n",
       "                  vct_load_lib('http://wrobstory.github.io/vega/vega.v1.3.3.js', function(){\n",
       "                  window.dispatchEvent(vincent_event);\n",
       "                  });\n",
       "                  });\n",
       "                  });\n",
       "                  });\n",
       "               };\n",
       "               if(typeof define === \"function\" && define.amd){\n",
       "                    if (window['d3'] === undefined ||\n",
       "                        window['topojson'] === undefined){\n",
       "                        require.config(\n",
       "                            {paths: {\n",
       "                              d3: 'http://d3js.org/d3.v3.min',\n",
       "                              topojson: 'http://d3js.org/topojson.v1.min'\n",
       "                              }\n",
       "                            }\n",
       "                          );\n",
       "                        require([\"d3\"], function(d3){\n",
       "                            console.log('Loading Vincent from require.js...')\n",
       "                            window.d3 = d3;\n",
       "                            require([\"topojson\"], function(topojson){\n",
       "                                window.topojson = topojson;\n",
       "                                load_all_libs();\n",
       "                            });\n",
       "                        });\n",
       "                    } else {\n",
       "                        load_all_libs();\n",
       "                    };\n",
       "               }else{\n",
       "                    console.log('Require.js not found, loading manually...')\n",
       "                    load_all_libs();\n",
       "               };\n",
       "\n",
       "           </script>"
      ],
      "text/plain": [
       "<IPython.core.display.HTML object>"
      ]
     },
     "metadata": {},
     "output_type": "display_data"
    },
    {
     "data": {
      "text/html": [
       "<link rel=\"stylesheet\" href=\"//cdnjs.cloudflare.com/ajax/libs/leaflet/0.7.3/leaflet.css\" />\n",
       "<style>\n",
       "    .leaflet-popup-content {\n",
       "        color: black !important;\n",
       "    }\n",
       "\n",
       "    .leaflet-container .leaflet-tile {\n",
       "       margin: 0;\n",
       "    }\n",
       "\n",
       "    .leaflet-control-zoom-in {\n",
       "        text-decoration: none !important;\n",
       "    }\n",
       "\n",
       "    .leaflet-control-zoom-out {\n",
       "        text-decoration: none !important;\n",
       "    }\n",
       "</style>"
      ],
      "text/plain": [
       "<IPython.core.display.HTML object>"
      ]
     },
     "metadata": {},
     "output_type": "display_data"
    },
    {
     "data": {
      "text/html": [
       "<script>\n",
       "\n",
       "  var folium_event = new CustomEvent(\n",
       "    \"folium_libs_loaded\",\n",
       "    {bubbles: true, cancelable: true}\n",
       "  );\n",
       "\n",
       "  var load_folium_charts = function(){\n",
       "    window.dispatchEvent(folium_event);\n",
       "  };\n",
       "\n",
       " var load_folium_libs = function(){\n",
       "    console.log('Loading all Folium libraries...')\n",
       "    $.getScript(\"//cdnjs.cloudflare.com/ajax/libs/leaflet/0.7.3/leaflet.js\", function(){\n",
       "      $.getScript('//cdnjs.cloudflare.com/ajax/libs/leaflet-dvf/0.2/leaflet-dvf.markers.min.js', function(){\n",
       "          if (window['vg'] === undefined){\n",
       "            $.getScript(\"//cdnjs.cloudflare.com/ajax/libs/vega/1.4.3/vega.min.js\", function(){\n",
       "              load_folium_charts();\n",
       "          });\n",
       "        } else {\n",
       "          load_folium_charts();\n",
       "        }\n",
       "      });\n",
       "    });\n",
       "  };\n",
       "\n",
       " if(typeof define === \"function\" && define.amd){\n",
       "      var load_paths = {\n",
       "        paths: {\n",
       "          topojson:'https://cdnjs.cloudflare.com/ajax/libs/topojson/1.6.9/topojson.min.js',\n",
       "          queue: 'https://cdnjs.cloudflare.com/ajax/libs/queue-async/1.0.7/queue.min.js',\n",
       "          d3: 'https://cdnjs.cloudflare.com/ajax/libs/d3/3.5.5/d3.min.js'\n",
       "        }\n",
       "      };\n",
       "      var libs = ['d3', 'queue', 'topojson'];\n",
       "      for (var i=0; i < libs.length; i++){\n",
       "        lib = libs[i]\n",
       "        if (window[lib] !== undefined){\n",
       "          delete load_paths.paths[lib]\n",
       "        };\n",
       "      };\n",
       "      if (Object.keys(load_paths.paths).length != 0){\n",
       "        require.config(load_paths);\n",
       "        require([\"queue\"], function(queue){\n",
       "          window.queue = queue;\n",
       "        });\n",
       "        require([\"d3\"], function(d3){\n",
       "            console.log('Loading from require.js...')\n",
       "            window.d3 = d3;\n",
       "            require([\"topojson\"], function(topojson){\n",
       "                window.topojson = topojson;\n",
       "                load_folium_libs();\n",
       "            });\n",
       "        });\n",
       "      } else {\n",
       "        load_folium_libs();\n",
       "      }\n",
       "\n",
       " }else{\n",
       "      console.log('Require.js not found!');\n",
       "      throw \"Require.js not found!\"\n",
       " };\n",
       "\n",
       "</script>"
      ],
      "text/plain": [
       "<IPython.core.display.HTML object>"
      ]
     },
     "metadata": {},
     "output_type": "display_data"
    }
   ],
   "source": [
    "from collections import OrderedDict\n",
    "\n",
    "import bearcart\n",
    "import bokeh\n",
    "import bokeh.plotting as bp\n",
    "from bokeh.plotting import output_notebook\n",
    "import folium\n",
    "import ggplot as gg\n",
    "from ggplot import ggplot\n",
    "from IPython.html.widgets import interact\n",
    "import matplotlib.pyplot as plt\n",
    "#import mpld3\n",
    "import numpy as np\n",
    "import pandas as pd\n",
    "import vincent \n",
    "\n",
    "%matplotlib inline\n",
    "#mpld3.enable_notebook()\n",
    "#bearcart.initialize_notebook()\n",
    "vincent.core.initialize_notebook()\n",
    "folium.initialize_notebook()\n",
    "\n",
    "# axis_color = 'black'\n",
    "axis_color = '#d0d0d0'"
   ]
  },
  {
   "cell_type": "code",
   "execution_count": 6,
   "metadata": {
    "collapsed": false
   },
   "outputs": [
    {
     "data": {
      "text/plain": [
       "'C:\\\\Users\\\\marcus.ohanlon\\\\Documents\\\\IPython Notebooks'"
      ]
     },
     "execution_count": 6,
     "metadata": {},
     "output_type": "execute_result"
    }
   ],
   "source": [
    "import os\n",
    "os.getcwd()\n",
    "#os.chdir(\"Documents/IPython Notebooks\")"
   ]
  },
  {
   "cell_type": "code",
   "execution_count": 7,
   "metadata": {
    "collapsed": false
   },
   "outputs": [
    {
     "data": {
      "text/html": [
       "<div style=\"max-height:1000px;max-width:1500px;overflow:auto;\">\n",
       "<table border=\"1\" class=\"dataframe\">\n",
       "  <thead>\n",
       "    <tr style=\"text-align: right;\">\n",
       "      <th></th>\n",
       "      <th>Region</th>\n",
       "      <th>Crime</th>\n",
       "      <th>2013Q3</th>\n",
       "      <th>2013Q4</th>\n",
       "      <th>2014Q1</th>\n",
       "      <th>2014Q2</th>\n",
       "    </tr>\n",
       "  </thead>\n",
       "  <tbody>\n",
       "    <tr>\n",
       "      <th>0</th>\n",
       "      <td> 2 ,Northern Region</td>\n",
       "      <td>                   01 ,Homicide offences</td>\n",
       "      <td> 5</td>\n",
       "      <td> 0</td>\n",
       "      <td> 2</td>\n",
       "      <td> 1</td>\n",
       "    </tr>\n",
       "    <tr>\n",
       "      <th>1</th>\n",
       "      <td> 3 ,Northern Region</td>\n",
       "      <td>                            0111 ,Murder</td>\n",
       "      <td> 3</td>\n",
       "      <td> 0</td>\n",
       "      <td> 2</td>\n",
       "      <td> 0</td>\n",
       "    </tr>\n",
       "    <tr>\n",
       "      <th>2</th>\n",
       "      <td> 4 ,Northern Region</td>\n",
       "      <td>                      0112 ,Manslaughter</td>\n",
       "      <td> 0</td>\n",
       "      <td> 0</td>\n",
       "      <td> 0</td>\n",
       "      <td> 0</td>\n",
       "    </tr>\n",
       "    <tr>\n",
       "      <th>3</th>\n",
       "      <td> 5 ,Northern Region</td>\n",
       "      <td>                       0113 ,Infanticide</td>\n",
       "      <td> 0</td>\n",
       "      <td> 0</td>\n",
       "      <td> 0</td>\n",
       "      <td> 0</td>\n",
       "    </tr>\n",
       "    <tr>\n",
       "      <th>4</th>\n",
       "      <td> 6 ,Northern Region</td>\n",
       "      <td> 012 ,Dangerous driving leading to death</td>\n",
       "      <td> 2</td>\n",
       "      <td> 0</td>\n",
       "      <td> 0</td>\n",
       "      <td> 1</td>\n",
       "    </tr>\n",
       "  </tbody>\n",
       "</table>\n",
       "</div>"
      ],
      "text/plain": [
       "               Region                                    Crime  2013Q3  \\\n",
       "0  2 ,Northern Region                    01 ,Homicide offences       5   \n",
       "1  3 ,Northern Region                             0111 ,Murder       3   \n",
       "2  4 ,Northern Region                       0112 ,Manslaughter       0   \n",
       "3  5 ,Northern Region                        0113 ,Infanticide       0   \n",
       "4  6 ,Northern Region  012 ,Dangerous driving leading to death       2   \n",
       "\n",
       "   2013Q4  2014Q1  2014Q2  \n",
       "0       0       2       1  \n",
       "1       0       2       0  \n",
       "2       0       0       0  \n",
       "3       0       0       0  \n",
       "4       0       0       1  "
      ]
     },
     "execution_count": 7,
     "metadata": {},
     "output_type": "execute_result"
    }
   ],
   "source": [
    "df = pd.read_csv(\"Crime.csv\")\n",
    "df.head()"
   ]
  },
  {
   "cell_type": "code",
   "execution_count": 8,
   "metadata": {
    "collapsed": false
   },
   "outputs": [],
   "source": [
    "df['Region'] = df['Region'].str.replace(r'.+,', '')\n",
    "df['Crime'] = df['Crime'].str.replace(r'.+,', '')\n",
    "df[\"total\"] = df[\"2013Q3\"] + df[\"2013Q4\"] + df[\"2014Q1\"]+ df[\"2014Q2\"]"
   ]
  },
  {
   "cell_type": "code",
   "execution_count": 9,
   "metadata": {
    "collapsed": false
   },
   "outputs": [
    {
     "data": {
      "text/plain": [
       "34"
      ]
     },
     "execution_count": 9,
     "metadata": {},
     "output_type": "execute_result"
    }
   ],
   "source": [
    "from collections import Counter\n",
    "myDict=Counter(df.Region)\n",
    "len(myDict)"
   ]
  },
  {
   "cell_type": "code",
   "execution_count": 10,
   "metadata": {
    "collapsed": false
   },
   "outputs": [
    {
     "data": {
      "text/plain": [
       "71"
      ]
     },
     "execution_count": 10,
     "metadata": {},
     "output_type": "execute_result"
    }
   ],
   "source": [
    "myDic=Counter(df.Crime)\n",
    "len(myDic)"
   ]
  },
  {
   "cell_type": "markdown",
   "metadata": {},
   "source": [
    "##Plot Top 25 Crimes for Q3 2013 - Q2 2014 by Crime"
   ]
  },
  {
   "cell_type": "code",
   "execution_count": 31,
   "metadata": {
    "collapsed": false
   },
   "outputs": [
    {
     "data": {
      "text/html": [
       "\n",
       "           <script>\n",
       "               \n",
       "                function vct_load_lib(url, callback){\n",
       "                      if(typeof d3 !== 'undefined' &&\n",
       "                         url === 'http://d3js.org/d3.v3.min.js'){\n",
       "                        callback()\n",
       "                      }\n",
       "                      var s = document.createElement('script');\n",
       "                      s.src = url;\n",
       "                      s.async = true;\n",
       "                      s.onreadystatechange = s.onload = callback;\n",
       "                      s.onerror = function(){\n",
       "                        console.warn(\"failed to load library \" + url);\n",
       "                        };\n",
       "                      document.getElementsByTagName(\"head\")[0].appendChild(s);\n",
       "                };\n",
       "                var vincent_event = new CustomEvent(\n",
       "                  \"vincent_libs_loaded\",\n",
       "                  {bubbles: true, cancelable: true}\n",
       "                );\n",
       "                \n",
       "               function load_all_libs(){\n",
       "                  console.log('Loading Vincent libs...')\n",
       "                  vct_load_lib('http://d3js.org/d3.v3.min.js', function(){\n",
       "                  vct_load_lib('http://d3js.org/d3.geo.projection.v0.min.js', function(){\n",
       "                  vct_load_lib('http://wrobstory.github.io/d3-cloud/d3.layout.cloud.js', function(){\n",
       "                  vct_load_lib('http://wrobstory.github.io/vega/vega.v1.3.3.js', function(){\n",
       "                  window.dispatchEvent(vincent_event);\n",
       "                  });\n",
       "                  });\n",
       "                  });\n",
       "                  });\n",
       "               };\n",
       "               if(typeof define === \"function\" && define.amd){\n",
       "                    if (window['d3'] === undefined ||\n",
       "                        window['topojson'] === undefined){\n",
       "                        require.config(\n",
       "                            {paths: {\n",
       "                              d3: 'http://d3js.org/d3.v3.min',\n",
       "                              topojson: 'http://d3js.org/topojson.v1.min'\n",
       "                              }\n",
       "                            }\n",
       "                          );\n",
       "                        require([\"d3\"], function(d3){\n",
       "                            console.log('Loading Vincent from require.js...')\n",
       "                            window.d3 = d3;\n",
       "                            require([\"topojson\"], function(topojson){\n",
       "                                window.topojson = topojson;\n",
       "                                load_all_libs();\n",
       "                            });\n",
       "                        });\n",
       "                    } else {\n",
       "                        load_all_libs();\n",
       "                    };\n",
       "               }else{\n",
       "                    console.log('Require.js not found, loading manually...')\n",
       "                    load_all_libs();\n",
       "               };\n",
       "\n",
       "           </script>"
      ],
      "text/plain": [
       "<IPython.core.display.HTML object>"
      ]
     },
     "metadata": {},
     "output_type": "display_data"
    }
   ],
   "source": [
    "mf_grouped = df.groupby('Crime')\n",
    "mean_grouped = mf_grouped.sum().dropna()\n",
    "mean_rd = mean_grouped.sort('total', ascending=False)['total']\n",
    "bar = vincent.Bar(mean_rd[:25])\n",
    "bar.axis_titles(x='Crime', y='Number Committed')\n",
    "vincent.initialize_notebook()\n"
   ]
  },
  {
   "cell_type": "code",
   "execution_count": 32,
   "metadata": {
    "collapsed": false
   },
   "outputs": [
    {
     "data": {
      "text/html": [
       "<div id=\"visf0a1b43cad0740309eeb4ce3370c2ce0\"></div>\n",
       "<script>\n",
       "   ( function() {\n",
       "     var _do_plot = function() {\n",
       "       if (typeof vg === 'undefined') {\n",
       "         window.addEventListener('vincent_libs_loaded', _do_plot)\n",
       "         return;\n",
       "       }\n",
       "       vg.parse.spec({\"axes\": [{\"properties\": {\"axis\": {\"stroke\": {\"value\": \"#d0d0d0\"}}, \"labels\": {\"align\": {\"value\": \"left\"}, \"angle\": {\"value\": 50}, \"fill\": {\"value\": \"#d0d0d0\"}}, \"majorTicks\": {\"stroke\": {\"value\": \"#d0d0d0\"}}, \"minorTicks\": {\"stroke\": {\"value\": \"#d0d0d0\"}}, \"title\": {\"dy\": {\"value\": 200}, \"fill\": {\"value\": \"#d0d0d0\"}, \"fontSize\": {\"value\": 20}}}, \"scale\": \"x\", \"title\": \"Crime\", \"type\": \"x\"}, {\"properties\": {\"axis\": {\"stroke\": {\"value\": \"#d0d0d0\"}}, \"labels\": {\"fill\": {\"value\": \"#d0d0d0\"}}, \"majorTicks\": {\"stroke\": {\"value\": \"#d0d0d0\"}}, \"minorTicks\": {\"stroke\": {\"value\": \"#d0d0d0\"}}, \"title\": {\"dy\": {\"value\": -50}, \"fill\": {\"value\": \"#d0d0d0\"}, \"fontSize\": {\"value\": 20}}}, \"scale\": \"y\", \"title\": \"Number Committed\", \"type\": \"y\"}], \"data\": [{\"name\": \"table\", \"values\": [{\"col\": \"total\", \"idx\": \"Theft and related offences\", \"val\": 155082}, {\"col\": \"total\", \"idx\": \" handling stolen property\", \"val\": 86818}, {\"col\": \"total\", \"idx\": \"Public order and other social code offences\", \"val\": 68716}, {\"col\": \"total\", \"idx\": \"Disorderly conduct\", \"val\": 57704}, {\"col\": \"total\", \"idx\": \"Damage to property and to the environment\", \"val\": 55766}, {\"col\": \"total\", \"idx\": \"Burglary and related offences\", \"val\": 52860}, {\"col\": \"total\", \"idx\": \"Criminal damage (not arson)\", \"val\": 51526}, {\"col\": \"total\", \"idx\": \"Burglary (not aggravated)\", \"val\": 50918}, {\"col\": \"total\", \"idx\": \"Theft from shop\", \"val\": 40508}, {\"col\": \"total\", \"idx\": \"Controlled drug offences\", \"val\": 31398}, {\"col\": \"total\", \"idx\": \" harassments and related offences\", \"val\": 28624}, {\"col\": \"total\", \"idx\": \"Possession of drugs for personal use\", \"val\": 22602}, {\"col\": \"total\", \"idx\": \"Other assault\", \"val\": 19082}, {\"col\": \"total\", \"idx\": \" justice procedures and organisation of crime\", \"val\": 17766}, {\"col\": \"total\", \"idx\": \" breach of court orders\", \"val\": 17144}, {\"col\": \"total\", \"idx\": \"Dangerous or negligent acts\", \"val\": 14904}, {\"col\": \"total\", \"idx\": \"Theft/taking of vehicle and related offences\", \"val\": 14736}, {\"col\": \"total\", \"idx\": \"Driving/in charge of a vehicle while over legal alcohol limit\", \"val\": 13514}, {\"col\": \"total\", \"idx\": \"Theft from person\", \"val\": 13020}, {\"col\": \"total\", \"idx\": \" deception and related offences\", \"val\": 10312}, {\"col\": \"total\", \"idx\": \"Possession of drugs for sale or supply\", \"val\": 6794}, {\"col\": \"total\", \"idx\": \" poisoning\", \"val\": 6030}, {\"col\": \"total\", \"idx\": \"Trespass offences\", \"val\": 5790}, {\"col\": \"total\", \"idx\": \" extortion and hijacking offences\", \"val\": 5654}, {\"col\": \"total\", \"idx\": \"Weapons and Explosives Offences\", \"val\": 5120}]}, {\"name\": \"stats\", \"source\": \"table\", \"transform\": [{\"keys\": [\"data.idx\"], \"type\": \"facet\"}, {\"type\": \"stats\", \"value\": \"data.val\"}]}], \"height\": 500, \"legends\": [], \"marks\": [{\"from\": {\"data\": \"table\", \"transform\": [{\"keys\": [\"data.col\"], \"type\": \"facet\"}, {\"height\": \"data.val\", \"point\": \"data.idx\", \"type\": \"stack\"}]}, \"marks\": [{\"properties\": {\"enter\": {\"fill\": {\"field\": \"data.col\", \"scale\": \"color\"}, \"width\": {\"band\": true, \"offset\": -1, \"scale\": \"x\"}, \"x\": {\"field\": \"data.idx\", \"scale\": \"x\"}, \"y\": {\"field\": \"y\", \"scale\": \"y\"}, \"y2\": {\"field\": \"y2\", \"scale\": \"y\"}}}, \"type\": \"rect\"}], \"type\": \"group\"}], \"padding\": \"auto\", \"scales\": [{\"domain\": {\"data\": \"table\", \"field\": \"data.idx\"}, \"name\": \"x\", \"range\": \"width\", \"type\": \"ordinal\", \"zero\": false}, {\"domain\": {\"data\": \"stats\", \"field\": \"sum\"}, \"name\": \"y\", \"nice\": true, \"range\": \"height\"}, {\"domain\": {\"data\": \"table\", \"field\": \"data.col\"}, \"name\": \"color\", \"range\": [\"#b48ead\"], \"type\": \"ordinal\"}], \"width\": 960}, function(chart) {\n",
       "         chart({el: \"#visf0a1b43cad0740309eeb4ce3370c2ce0\"}).update();\n",
       "       });\n",
       "     };\n",
       "     _do_plot();\n",
       "   })();\n",
       "</script>\n",
       "<style>.vega canvas {width: 100%;}</style>\n",
       "        "
      ],
      "text/plain": [
       "<vincent.charts.Bar at 0xf248da0>"
      ]
     },
     "execution_count": 32,
     "metadata": {},
     "output_type": "execute_result"
    }
   ],
   "source": [
    "from vincent.axes import AxisProperties\n",
    "from vincent.properties import PropertySet\n",
    "from vincent.values import ValueRef\n",
    "for axis in bar.axes:\n",
    "    axis.properties = AxisProperties()\n",
    "    for prop in ['ticks', 'axis', 'major_ticks', 'minor_ticks']:\n",
    "        setattr(axis.properties, prop, PropertySet(stroke=ValueRef(value=axis_color)))\n",
    "    axis.properties.title = PropertySet(font_size=ValueRef(value=20), \n",
    "                                        fill=ValueRef(value=axis_color))\n",
    "    axis.properties.labels = PropertySet(fill=ValueRef(value=axis_color))\n",
    "bar.axes[0].properties.labels.angle = ValueRef(value=50)\n",
    "bar.axes[0].properties.labels.align = ValueRef(value='left')\n",
    "bar.axes[0].properties.title.dy = ValueRef(value=200)\n",
    "bar.axes[1].properties.title.dy = ValueRef(value=-50)\n",
    "bar.scales[2].range = ['#b48ead']\n",
    "bar"
   ]
  },
  {
   "cell_type": "markdown",
   "metadata": {},
   "source": [
    "##Plot Top 25 Crimes for Q3 2013 - Q2 2014 by Region"
   ]
  },
  {
   "cell_type": "code",
   "execution_count": 33,
   "metadata": {
    "collapsed": false
   },
   "outputs": [
    {
     "data": {
      "text/html": [
       "<div id=\"visbc71b39d08244214b613b07ed70e76ef\"></div>\n",
       "<script>\n",
       "   ( function() {\n",
       "     var _do_plot = function() {\n",
       "       if (typeof vg === 'undefined') {\n",
       "         window.addEventListener('vincent_libs_loaded', _do_plot)\n",
       "         return;\n",
       "       }\n",
       "       vg.parse.spec({\"axes\": [{\"properties\": {\"axis\": {\"stroke\": {\"value\": \"#d0d0d0\"}}, \"labels\": {\"align\": {\"value\": \"left\"}, \"angle\": {\"value\": 50}, \"fill\": {\"value\": \"#d0d0d0\"}}, \"majorTicks\": {\"stroke\": {\"value\": \"#d0d0d0\"}}, \"minorTicks\": {\"stroke\": {\"value\": \"#d0d0d0\"}}, \"title\": {\"dy\": {\"value\": 200}, \"fill\": {\"value\": \"#d0d0d0\"}, \"fontSize\": {\"value\": 20}}}, \"scale\": \"x\", \"title\": \"Region\", \"type\": \"x\"}, {\"properties\": {\"axis\": {\"stroke\": {\"value\": \"#d0d0d0\"}}, \"labels\": {\"fill\": {\"value\": \"#d0d0d0\"}}, \"majorTicks\": {\"stroke\": {\"value\": \"#d0d0d0\"}}, \"minorTicks\": {\"stroke\": {\"value\": \"#d0d0d0\"}}, \"title\": {\"dy\": {\"value\": -50}, \"fill\": {\"value\": \"#d0d0d0\"}, \"fontSize\": {\"value\": 20}}}, \"scale\": \"y\", \"title\": \"Number Committed\", \"type\": \"y\"}], \"data\": [{\"name\": \"table\", \"values\": [{\"col\": \"total\", \"idx\": \"Dublin Region\", \"val\": 188025}, {\"col\": \"total\", \"idx\": \"Southern Region\", \"val\": 72747}, {\"col\": \"total\", \"idx\": \"Eastern Region\", \"val\": 62869}, {\"col\": \"total\", \"idx\": \"South Eastern Region\", \"val\": 46267}, {\"col\": \"total\", \"idx\": \"D.M.R. Western Garda Division\", \"val\": 38454}, {\"col\": \"total\", \"idx\": \"Western Region\", \"val\": 37985}, {\"col\": \"total\", \"idx\": \"D.M.R. North Central Garda Division\", \"val\": 37648}, {\"col\": \"total\", \"idx\": \"Northern Region\", \"val\": 37467}, {\"col\": \"total\", \"idx\": \"D.M.R. South Central Garda Division\", \"val\": 36976}, {\"col\": \"total\", \"idx\": \"D.M.R. Northern Garda Division\", \"val\": 31992}, {\"col\": \"total\", \"idx\": \"D.M.R. Southern Garda Division\", \"val\": 25891}, {\"col\": \"total\", \"idx\": \"Cork City Garda Division\", \"val\": 24570}, {\"col\": \"total\", \"idx\": \"Limerick Garda Division\", \"val\": 23608}, {\"col\": \"total\", \"idx\": \"Galway Garda Division\", \"val\": 17292}, {\"col\": \"total\", \"idx\": \"D.M.R. Eastern Garda Division\", \"val\": 17064}, {\"col\": \"total\", \"idx\": \"Kildare  Garda Division\", \"val\": 16034}, {\"col\": \"total\", \"idx\": \"Wicklow  Garda Division\", \"val\": 13283}, {\"col\": \"total\", \"idx\": \"Louth  Garda Division\", \"val\": 12882}, {\"col\": \"total\", \"idx\": \"Laois/Offaly Garda Division\", \"val\": 12870}, {\"col\": \"total\", \"idx\": \"Kilkenny/Carlow Garda Division\", \"val\": 12679}, {\"col\": \"total\", \"idx\": \"Waterford  Garda Division\", \"val\": 12345}, {\"col\": \"total\", \"idx\": \"Meath  Garda Division\", \"val\": 12258}, {\"col\": \"total\", \"idx\": \"Wexford  Garda Division\", \"val\": 10901}, {\"col\": \"total\", \"idx\": \"Tipperary Garda Division\", \"val\": 10342}, {\"col\": \"total\", \"idx\": \"Kerry Garda Division\", \"val\": 9867}]}, {\"name\": \"stats\", \"source\": \"table\", \"transform\": [{\"keys\": [\"data.idx\"], \"type\": \"facet\"}, {\"type\": \"stats\", \"value\": \"data.val\"}]}], \"height\": 500, \"legends\": [], \"marks\": [{\"from\": {\"data\": \"table\", \"transform\": [{\"keys\": [\"data.col\"], \"type\": \"facet\"}, {\"height\": \"data.val\", \"point\": \"data.idx\", \"type\": \"stack\"}]}, \"marks\": [{\"properties\": {\"enter\": {\"fill\": {\"field\": \"data.col\", \"scale\": \"color\"}, \"width\": {\"band\": true, \"offset\": -1, \"scale\": \"x\"}, \"x\": {\"field\": \"data.idx\", \"scale\": \"x\"}, \"y\": {\"field\": \"y\", \"scale\": \"y\"}, \"y2\": {\"field\": \"y2\", \"scale\": \"y\"}}}, \"type\": \"rect\"}], \"type\": \"group\"}], \"padding\": \"auto\", \"scales\": [{\"domain\": {\"data\": \"table\", \"field\": \"data.idx\"}, \"name\": \"x\", \"range\": \"width\", \"type\": \"ordinal\", \"zero\": false}, {\"domain\": {\"data\": \"stats\", \"field\": \"sum\"}, \"name\": \"y\", \"nice\": true, \"range\": \"height\"}, {\"domain\": {\"data\": \"table\", \"field\": \"data.col\"}, \"name\": \"color\", \"range\": [\"#b48ead\"], \"type\": \"ordinal\"}], \"width\": 960}, function(chart) {\n",
       "         chart({el: \"#visbc71b39d08244214b613b07ed70e76ef\"}).update();\n",
       "       });\n",
       "     };\n",
       "     _do_plot();\n",
       "   })();\n",
       "</script>\n",
       "<style>.vega canvas {width: 100%;}</style>\n",
       "        "
      ],
      "text/plain": [
       "<vincent.charts.Bar at 0x1bb4fef0>"
      ]
     },
     "execution_count": 33,
     "metadata": {},
     "output_type": "execute_result"
    }
   ],
   "source": [
    "mf1_grouped = df.groupby('Region')\n",
    "mean_grouped1 = mf1_grouped.sum().dropna()\n",
    "mean_rd1 = mean_grouped1.sort('total', ascending=False)['total']\n",
    "bar1 = vincent.Bar(mean_rd1[:25])\n",
    "bar1.axis_titles(x='Region', y='Number Committed')\n",
    "\n",
    "\n",
    "for axis in bar1.axes:\n",
    "    axis.properties = AxisProperties()\n",
    "    for prop in ['ticks', 'axis', 'major_ticks', 'minor_ticks']:\n",
    "        setattr(axis.properties, prop, PropertySet(stroke=ValueRef(value=axis_color)))\n",
    "    axis.properties.title = PropertySet(font_size=ValueRef(value=20), \n",
    "                                        fill=ValueRef(value=axis_color))\n",
    "    axis.properties.labels = PropertySet(fill=ValueRef(value=axis_color))\n",
    "bar1.axes[0].properties.labels.angle = ValueRef(value=50)\n",
    "bar1.axes[0].properties.labels.align = ValueRef(value='left')\n",
    "bar1.axes[0].properties.title.dy = ValueRef(value=200)\n",
    "bar1.axes[1].properties.title.dy = ValueRef(value=-50)\n",
    "bar1.scales[2].range = ['#b48ead']\n",
    "bar1"
   ]
  },
  {
   "cell_type": "code",
   "execution_count": null,
   "metadata": {
    "collapsed": true
   },
   "outputs": [],
   "source": []
  }
 ],
 "metadata": {
  "kernelspec": {
   "display_name": "Python 2",
   "language": "python",
   "name": "python2"
  },
  "language_info": {
   "codemirror_mode": {
    "name": "ipython",
    "version": 2
   },
   "file_extension": ".py",
   "mimetype": "text/x-python",
   "name": "python",
   "nbconvert_exporter": "python",
   "pygments_lexer": "ipython2",
   "version": "2.7.7"
  }
 },
 "nbformat": 4,
 "nbformat_minor": 0
}
