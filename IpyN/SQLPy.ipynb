{
 "cells": [
  {
   "cell_type": "code",
   "execution_count": 2,
   "metadata": {
    "collapsed": false
   },
   "outputs": [],
   "source": [
    "from SQL_support_code import *\n",
    "#https://github.com/DaveBackus/Data_Bootcamp/blob/master/Code/SQL/SQL_Intro.ipynb\n",
    "#https://github.com/DaveBackus/Data_Bootcamp/blob/master/Code/SQL/SQL_Cheat_Sheet.pdf"
   ]
  },
  {
   "cell_type": "markdown",
   "metadata": {},
   "source": [
    "#Selecting Data"
   ]
  },
  {
   "cell_type": "code",
   "execution_count": 28,
   "metadata": {
    "collapsed": false
   },
   "outputs": [
    {
     "data": {
      "text/html": [
       "<div style=\"max-height:1000px;max-width:1500px;overflow:auto;\">\n",
       "<table border=\"1\" class=\"dataframe\">\n",
       "  <thead>\n",
       "    <tr style=\"text-align: right;\">\n",
       "      <th></th>\n",
       "      <th>id</th>\n",
       "      <th>model_id</th>\n",
       "      <th>customer_id</th>\n",
       "      <th>revenue</th>\n",
       "      <th>payment_type</th>\n",
       "      <th>salesman_id</th>\n",
       "      <th>date</th>\n",
       "    </tr>\n",
       "  </thead>\n",
       "  <tbody>\n",
       "    <tr>\n",
       "      <th>0</th>\n",
       "      <td> 54858</td>\n",
       "      <td> 36</td>\n",
       "      <td> 237906</td>\n",
       "      <td> 21222</td>\n",
       "      <td> finance</td>\n",
       "      <td> 276</td>\n",
       "      <td>   1/7/2014</td>\n",
       "    </tr>\n",
       "    <tr>\n",
       "      <th>1</th>\n",
       "      <td> 43161</td>\n",
       "      <td> 20</td>\n",
       "      <td> 967016</td>\n",
       "      <td> 19140</td>\n",
       "      <td> finance</td>\n",
       "      <td> 225</td>\n",
       "      <td>  1/26/2014</td>\n",
       "    </tr>\n",
       "  </tbody>\n",
       "</table>\n",
       "</div>"
      ],
      "text/plain": [
       "      id  model_id  customer_id  revenue payment_type  salesman_id        date\n",
       "0  54858        36       237906    21222      finance          276    1/7/2014\n",
       "1  43161        20       967016    19140      finance          225   1/26/2014"
      ]
     },
     "execution_count": 28,
     "metadata": {},
     "output_type": "execute_result"
    }
   ],
   "source": [
    "run('''\n",
    "    SELECT\n",
    "        *\n",
    "    FROM\n",
    "        sales_table\n",
    "        LIMIT 2\n",
    "    ''')"
   ]
  },
  {
   "cell_type": "markdown",
   "metadata": {},
   "source": [
    "#Unique/Distinct Values"
   ]
  },
  {
   "cell_type": "code",
   "execution_count": 29,
   "metadata": {
    "collapsed": false
   },
   "outputs": [
    {
     "data": {
      "text/html": [
       "<div style=\"max-height:1000px;max-width:1500px;overflow:auto;\">\n",
       "<table border=\"1\" class=\"dataframe\">\n",
       "  <thead>\n",
       "    <tr style=\"text-align: right;\">\n",
       "      <th></th>\n",
       "      <th>model_id</th>\n",
       "    </tr>\n",
       "  </thead>\n",
       "  <tbody>\n",
       "    <tr>\n",
       "      <th>0</th>\n",
       "      <td> 19</td>\n",
       "    </tr>\n",
       "    <tr>\n",
       "      <th>1</th>\n",
       "      <td> 20</td>\n",
       "    </tr>\n",
       "  </tbody>\n",
       "</table>\n",
       "</div>"
      ],
      "text/plain": [
       "   model_id\n",
       "0        19\n",
       "1        20"
      ]
     },
     "execution_count": 29,
     "metadata": {},
     "output_type": "execute_result"
    }
   ],
   "source": [
    "run('''\n",
    "    SELECT\n",
    "        DISTINCT model_id\n",
    "    FROM\n",
    "        sales_table\n",
    "        LIMIT 2\n",
    "    ''')"
   ]
  },
  {
   "cell_type": "markdown",
   "metadata": {},
   "source": [
    "#Where Clause\n",
    "\n",
    "=\n",
    "\n",
    "<>\n",
    "\n",
    "LIKE '...%'"
   ]
  },
  {
   "cell_type": "code",
   "execution_count": 5,
   "metadata": {
    "collapsed": false
   },
   "outputs": [
    {
     "data": {
      "text/html": [
       "<div style=\"max-height:1000px;max-width:1500px;overflow:auto;\">\n",
       "<table border=\"1\" class=\"dataframe\">\n",
       "  <thead>\n",
       "    <tr style=\"text-align: right;\">\n",
       "      <th></th>\n",
       "      <th>id</th>\n",
       "      <th>model_id</th>\n",
       "      <th>customer_id</th>\n",
       "      <th>revenue</th>\n",
       "      <th>payment_type</th>\n",
       "      <th>salesman_id</th>\n",
       "      <th>date</th>\n",
       "    </tr>\n",
       "  </thead>\n",
       "  <tbody>\n",
       "    <tr>\n",
       "      <th>0</th>\n",
       "      <td> 40112</td>\n",
       "      <td> 46</td>\n",
       "      <td> 819010</td>\n",
       "      <td> 14720</td>\n",
       "      <td> cash</td>\n",
       "      <td> 147</td>\n",
       "      <td>  1/17/2014</td>\n",
       "    </tr>\n",
       "    <tr>\n",
       "      <th>1</th>\n",
       "      <td> 82630</td>\n",
       "      <td> 46</td>\n",
       "      <td> 618295</td>\n",
       "      <td> 15040</td>\n",
       "      <td> cash</td>\n",
       "      <td> 949</td>\n",
       "      <td>  1/16/2014</td>\n",
       "    </tr>\n",
       "    <tr>\n",
       "      <th>2</th>\n",
       "      <td> 70434</td>\n",
       "      <td> 46</td>\n",
       "      <td> 944843</td>\n",
       "      <td> 13600</td>\n",
       "      <td> cash</td>\n",
       "      <td> 680</td>\n",
       "      <td>  1/25/2014</td>\n",
       "    </tr>\n",
       "    <tr>\n",
       "      <th>3</th>\n",
       "      <td> 30046</td>\n",
       "      <td> 46</td>\n",
       "      <td> 982483</td>\n",
       "      <td> 12640</td>\n",
       "      <td> cash</td>\n",
       "      <td> 215</td>\n",
       "      <td>  1/29/2014</td>\n",
       "    </tr>\n",
       "    <tr>\n",
       "      <th>4</th>\n",
       "      <td> 14082</td>\n",
       "      <td> 46</td>\n",
       "      <td> 909110</td>\n",
       "      <td> 15200</td>\n",
       "      <td> cash</td>\n",
       "      <td> 813</td>\n",
       "      <td>  1/28/2014</td>\n",
       "    </tr>\n",
       "    <tr>\n",
       "      <th>5</th>\n",
       "      <td> 31815</td>\n",
       "      <td> 46</td>\n",
       "      <td> 743097</td>\n",
       "      <td> 15040</td>\n",
       "      <td> cash</td>\n",
       "      <td> 147</td>\n",
       "      <td>  1/25/2014</td>\n",
       "    </tr>\n",
       "  </tbody>\n",
       "</table>\n",
       "</div>"
      ],
      "text/plain": [
       "      id  model_id  customer_id  revenue payment_type  salesman_id        date\n",
       "0  40112        46       819010    14720         cash          147   1/17/2014\n",
       "1  82630        46       618295    15040         cash          949   1/16/2014\n",
       "2  70434        46       944843    13600         cash          680   1/25/2014\n",
       "3  30046        46       982483    12640         cash          215   1/29/2014\n",
       "4  14082        46       909110    15200         cash          813   1/28/2014\n",
       "5  31815        46       743097    15040         cash          147   1/25/2014"
      ]
     },
     "execution_count": 5,
     "metadata": {},
     "output_type": "execute_result"
    }
   ],
   "source": [
    "run('''\n",
    "    SELECT\n",
    "        *\n",
    "    FROM\n",
    "        sales_table\n",
    "    WHERE\n",
    "        payment_type = 'cash'\n",
    "        AND model_id = 46 \n",
    "    ''')"
   ]
  },
  {
   "cell_type": "code",
   "execution_count": 6,
   "metadata": {
    "collapsed": false
   },
   "outputs": [
    {
     "data": {
      "text/html": [
       "<div style=\"max-height:1000px;max-width:1500px;overflow:auto;\">\n",
       "<table border=\"1\" class=\"dataframe\">\n",
       "  <thead>\n",
       "    <tr style=\"text-align: right;\">\n",
       "      <th></th>\n",
       "      <th>id</th>\n",
       "      <th>model_id</th>\n",
       "      <th>customer_id</th>\n",
       "      <th>revenue</th>\n",
       "      <th>payment_type</th>\n",
       "      <th>salesman_id</th>\n",
       "      <th>date</th>\n",
       "    </tr>\n",
       "  </thead>\n",
       "  <tbody>\n",
       "    <tr>\n",
       "      <th>0</th>\n",
       "      <td> 54858</td>\n",
       "      <td> 36</td>\n",
       "      <td> 237906</td>\n",
       "      <td> 21222</td>\n",
       "      <td> finance</td>\n",
       "      <td> 276</td>\n",
       "      <td>   1/7/2014</td>\n",
       "    </tr>\n",
       "    <tr>\n",
       "      <th>1</th>\n",
       "      <td> 43161</td>\n",
       "      <td> 20</td>\n",
       "      <td> 967016</td>\n",
       "      <td> 19140</td>\n",
       "      <td> finance</td>\n",
       "      <td> 225</td>\n",
       "      <td>  1/26/2014</td>\n",
       "    </tr>\n",
       "    <tr>\n",
       "      <th>2</th>\n",
       "      <td> 40112</td>\n",
       "      <td> 46</td>\n",
       "      <td> 819010</td>\n",
       "      <td> 14720</td>\n",
       "      <td>    cash</td>\n",
       "      <td> 147</td>\n",
       "      <td>  1/17/2014</td>\n",
       "    </tr>\n",
       "    <tr>\n",
       "      <th>3</th>\n",
       "      <td> 92495</td>\n",
       "      <td> 31</td>\n",
       "      <td> 633030</td>\n",
       "      <td> 19010</td>\n",
       "      <td> finance</td>\n",
       "      <td> 215</td>\n",
       "      <td>  1/13/2014</td>\n",
       "    </tr>\n",
       "    <tr>\n",
       "      <th>4</th>\n",
       "      <td> 78000</td>\n",
       "      <td> 51</td>\n",
       "      <td> 341877</td>\n",
       "      <td> 22022</td>\n",
       "      <td> finance</td>\n",
       "      <td> 803</td>\n",
       "      <td>  1/12/2014</td>\n",
       "    </tr>\n",
       "  </tbody>\n",
       "</table>\n",
       "</div>"
      ],
      "text/plain": [
       "      id  model_id  customer_id  revenue payment_type  salesman_id        date\n",
       "0  54858        36       237906    21222      finance          276    1/7/2014\n",
       "1  43161        20       967016    19140      finance          225   1/26/2014\n",
       "2  40112        46       819010    14720         cash          147   1/17/2014\n",
       "3  92495        31       633030    19010      finance          215   1/13/2014\n",
       "4  78000        51       341877    22022      finance          803   1/12/2014"
      ]
     },
     "execution_count": 6,
     "metadata": {},
     "output_type": "execute_result"
    }
   ],
   "source": [
    "run('''\n",
    "    SELECT\n",
    "        *\n",
    "    FROM\n",
    "        sales_table\n",
    "    WHERE\n",
    "        payment_type LIKE '%c%'\n",
    "    LIMIT 5\n",
    "    ''')"
   ]
  },
  {
   "cell_type": "markdown",
   "metadata": {},
   "source": [
    "#Order By\n",
    "\n",
    "ORDER BY    '....'\n",
    "\n",
    "LIMIT X"
   ]
  },
  {
   "cell_type": "code",
   "execution_count": 7,
   "metadata": {
    "collapsed": false
   },
   "outputs": [
    {
     "data": {
      "text/html": [
       "<div style=\"max-height:1000px;max-width:1500px;overflow:auto;\">\n",
       "<table border=\"1\" class=\"dataframe\">\n",
       "  <thead>\n",
       "    <tr style=\"text-align: right;\">\n",
       "      <th></th>\n",
       "      <th>id</th>\n",
       "      <th>model_id</th>\n",
       "      <th>customer_id</th>\n",
       "      <th>revenue</th>\n",
       "      <th>payment_type</th>\n",
       "      <th>salesman_id</th>\n",
       "      <th>date</th>\n",
       "    </tr>\n",
       "  </thead>\n",
       "  <tbody>\n",
       "    <tr>\n",
       "      <th>0</th>\n",
       "      <td> 56245</td>\n",
       "      <td> 36</td>\n",
       "      <td> 248621</td>\n",
       "      <td> 25938</td>\n",
       "      <td> cash</td>\n",
       "      <td> 492</td>\n",
       "      <td>  1/19/2014</td>\n",
       "    </tr>\n",
       "    <tr>\n",
       "      <th>1</th>\n",
       "      <td> 37050</td>\n",
       "      <td> 36</td>\n",
       "      <td> 513614</td>\n",
       "      <td> 25937</td>\n",
       "      <td> cash</td>\n",
       "      <td> 492</td>\n",
       "      <td>   1/2/2014</td>\n",
       "    </tr>\n",
       "  </tbody>\n",
       "</table>\n",
       "</div>"
      ],
      "text/plain": [
       "      id  model_id  customer_id  revenue payment_type  salesman_id        date\n",
       "0  56245        36       248621    25938         cash          492   1/19/2014\n",
       "1  37050        36       513614    25937         cash          492    1/2/2014"
      ]
     },
     "execution_count": 7,
     "metadata": {},
     "output_type": "execute_result"
    }
   ],
   "source": [
    "run('''\n",
    "    SELECT\n",
    "        *\n",
    "    FROM\n",
    "        sales_table\n",
    "    ORDER BY\n",
    "        revenue DESC\n",
    "    LIMIT 2\n",
    "    ''')"
   ]
  },
  {
   "cell_type": "markdown",
   "metadata": {},
   "source": [
    "#Aliases\n",
    "\n",
    "renameing columns with SQL query"
   ]
  },
  {
   "cell_type": "code",
   "execution_count": 8,
   "metadata": {
    "collapsed": false
   },
   "outputs": [
    {
     "data": {
      "text/html": [
       "<div style=\"max-height:1000px;max-width:1500px;overflow:auto;\">\n",
       "<table border=\"1\" class=\"dataframe\">\n",
       "  <thead>\n",
       "    <tr style=\"text-align: right;\">\n",
       "      <th></th>\n",
       "      <th>Model_of_car</th>\n",
       "      <th>Rev_per_car</th>\n",
       "    </tr>\n",
       "  </thead>\n",
       "  <tbody>\n",
       "    <tr>\n",
       "      <th>0</th>\n",
       "      <td> 75</td>\n",
       "      <td> 21409</td>\n",
       "    </tr>\n",
       "    <tr>\n",
       "      <th>1</th>\n",
       "      <td> 75</td>\n",
       "      <td> 18671</td>\n",
       "    </tr>\n",
       "    <tr>\n",
       "      <th>2</th>\n",
       "      <td> 75</td>\n",
       "      <td> 19418</td>\n",
       "    </tr>\n",
       "    <tr>\n",
       "      <th>3</th>\n",
       "      <td> 75</td>\n",
       "      <td> 19667</td>\n",
       "    </tr>\n",
       "    <tr>\n",
       "      <th>4</th>\n",
       "      <td> 75</td>\n",
       "      <td> 19418</td>\n",
       "    </tr>\n",
       "    <tr>\n",
       "      <th>5</th>\n",
       "      <td> 75</td>\n",
       "      <td> 19418</td>\n",
       "    </tr>\n",
       "    <tr>\n",
       "      <th>6</th>\n",
       "      <td> 75</td>\n",
       "      <td> 21409</td>\n",
       "    </tr>\n",
       "    <tr>\n",
       "      <th>7</th>\n",
       "      <td> 75</td>\n",
       "      <td> 22654</td>\n",
       "    </tr>\n",
       "    <tr>\n",
       "      <th>8</th>\n",
       "      <td> 75</td>\n",
       "      <td> 21409</td>\n",
       "    </tr>\n",
       "    <tr>\n",
       "      <th>9</th>\n",
       "      <td> 75</td>\n",
       "      <td> 22405</td>\n",
       "    </tr>\n",
       "  </tbody>\n",
       "</table>\n",
       "</div>"
      ],
      "text/plain": [
       "   Model_of_car  Rev_per_car\n",
       "0            75        21409\n",
       "1            75        18671\n",
       "2            75        19418\n",
       "3            75        19667\n",
       "4            75        19418\n",
       "5            75        19418\n",
       "6            75        21409\n",
       "7            75        22654\n",
       "8            75        21409\n",
       "9            75        22405"
      ]
     },
     "execution_count": 8,
     "metadata": {},
     "output_type": "execute_result"
    }
   ],
   "source": [
    "run('''\n",
    "    SELECT\n",
    "        model_id AS Model_of_car,\n",
    "        revenue AS Rev_per_car\n",
    "    FROM \n",
    "        sales_table\n",
    "        ORDER BY\n",
    "        Model_of_car DESC\n",
    "        LIMIT 10\n",
    "         \n",
    "    ''')"
   ]
  },
  {
   "cell_type": "markdown",
   "metadata": {},
   "source": [
    "\n",
    "\n",
    "\n",
    "\n",
    "#Joins\n",
    "\n",
    "Start by Joining SALEs_TABLE and CAR_TABLE\n",
    "\n",
    "####These are inner joins\n",
    "\n",
    "\n",
    "\n"
   ]
  },
  {
   "cell_type": "code",
   "execution_count": 9,
   "metadata": {
    "collapsed": false
   },
   "outputs": [
    {
     "data": {
      "text/html": [
       "<div style=\"max-height:1000px;max-width:1500px;overflow:auto;\">\n",
       "<table border=\"1\" class=\"dataframe\">\n",
       "  <thead>\n",
       "    <tr style=\"text-align: right;\">\n",
       "      <th></th>\n",
       "      <th>id</th>\n",
       "      <th>model_id</th>\n",
       "      <th>customer_id</th>\n",
       "      <th>revenue</th>\n",
       "      <th>payment_type</th>\n",
       "      <th>salesman_id</th>\n",
       "      <th>date</th>\n",
       "    </tr>\n",
       "  </thead>\n",
       "  <tbody>\n",
       "    <tr>\n",
       "      <th>0</th>\n",
       "      <td> 54858</td>\n",
       "      <td> 36</td>\n",
       "      <td> 237906</td>\n",
       "      <td> 21222</td>\n",
       "      <td> finance</td>\n",
       "      <td> 276</td>\n",
       "      <td>  1/7/2014</td>\n",
       "    </tr>\n",
       "  </tbody>\n",
       "</table>\n",
       "</div>"
      ],
      "text/plain": [
       "      id  model_id  customer_id  revenue payment_type  salesman_id       date\n",
       "0  54858        36       237906    21222      finance          276   1/7/2014"
      ]
     },
     "execution_count": 9,
     "metadata": {},
     "output_type": "execute_result"
    }
   ],
   "source": [
    "run('''\n",
    "    SELECT\n",
    "        *\n",
    "    FROM\n",
    "        sales_table\n",
    "    LIMIT 1\n",
    "    ''')"
   ]
  },
  {
   "cell_type": "code",
   "execution_count": 10,
   "metadata": {
    "collapsed": false
   },
   "outputs": [
    {
     "data": {
      "text/html": [
       "<div style=\"max-height:1000px;max-width:1500px;overflow:auto;\">\n",
       "<table border=\"1\" class=\"dataframe\">\n",
       "  <thead>\n",
       "    <tr style=\"text-align: right;\">\n",
       "      <th></th>\n",
       "      <th>model_id</th>\n",
       "      <th>make</th>\n",
       "      <th>model</th>\n",
       "      <th>sticker_price</th>\n",
       "      <th>cogs</th>\n",
       "    </tr>\n",
       "  </thead>\n",
       "  <tbody>\n",
       "    <tr>\n",
       "      <th>0</th>\n",
       "      <td> 20</td>\n",
       "      <td> Toyota</td>\n",
       "      <td> Camry</td>\n",
       "      <td> 22000</td>\n",
       "      <td> 13200</td>\n",
       "    </tr>\n",
       "  </tbody>\n",
       "</table>\n",
       "</div>"
      ],
      "text/plain": [
       "   model_id    make  model  sticker_price   cogs\n",
       "0        20  Toyota  Camry          22000  13200"
      ]
     },
     "execution_count": 10,
     "metadata": {},
     "output_type": "execute_result"
    }
   ],
   "source": [
    "run('''\n",
    "    SELECT\n",
    "        *\n",
    "    FROM\n",
    "        car_table\n",
    "    LIMIT 1\n",
    "    ''')"
   ]
  },
  {
   "cell_type": "code",
   "execution_count": 11,
   "metadata": {
    "collapsed": false
   },
   "outputs": [
    {
     "data": {
      "text/html": [
       "<div style=\"max-height:1000px;max-width:1500px;overflow:auto;\">\n",
       "<table border=\"1\" class=\"dataframe\">\n",
       "  <thead>\n",
       "    <tr style=\"text-align: right;\">\n",
       "      <th></th>\n",
       "      <th>id</th>\n",
       "      <th>model_id</th>\n",
       "      <th>customer_id</th>\n",
       "      <th>revenue</th>\n",
       "      <th>payment_type</th>\n",
       "      <th>salesman_id</th>\n",
       "      <th>date</th>\n",
       "      <th>model_id</th>\n",
       "      <th>make</th>\n",
       "      <th>model</th>\n",
       "      <th>sticker_price</th>\n",
       "      <th>cogs</th>\n",
       "    </tr>\n",
       "  </thead>\n",
       "  <tbody>\n",
       "    <tr>\n",
       "      <th>0</th>\n",
       "      <td> 54858</td>\n",
       "      <td> 36</td>\n",
       "      <td> 237906</td>\n",
       "      <td> 21222</td>\n",
       "      <td> finance</td>\n",
       "      <td> 276</td>\n",
       "      <td>  1/7/2014</td>\n",
       "      <td> 36</td>\n",
       "      <td> Toyota</td>\n",
       "      <td> Tundra</td>\n",
       "      <td> 26200</td>\n",
       "      <td> 15720</td>\n",
       "    </tr>\n",
       "  </tbody>\n",
       "</table>\n",
       "</div>"
      ],
      "text/plain": [
       "      id  model_id  customer_id  revenue payment_type  salesman_id       date  \\\n",
       "0  54858        36       237906    21222      finance          276   1/7/2014   \n",
       "\n",
       "   model_id    make   model  sticker_price   cogs  \n",
       "0        36  Toyota  Tundra          26200  15720  "
      ]
     },
     "execution_count": 11,
     "metadata": {},
     "output_type": "execute_result"
    }
   ],
   "source": [
    "\n",
    "run('''\n",
    "    SELECT\n",
    "        *\n",
    "    FROM\n",
    "        sales_table\n",
    "        JOIN car_table ON sales_table.model_id = car_table.model_id\n",
    "    LIMIT 1\n",
    "    ''')\n"
   ]
  },
  {
   "cell_type": "markdown",
   "metadata": {},
   "source": [
    "###Joins are easier with Aliases :)"
   ]
  },
  {
   "cell_type": "code",
   "execution_count": 12,
   "metadata": {
    "collapsed": false
   },
   "outputs": [
    {
     "data": {
      "text/html": [
       "<div style=\"max-height:1000px;max-width:1500px;overflow:auto;\">\n",
       "<table border=\"1\" class=\"dataframe\">\n",
       "  <thead>\n",
       "    <tr style=\"text-align: right;\">\n",
       "      <th></th>\n",
       "      <th>customer_id</th>\n",
       "      <th>gender</th>\n",
       "      <th>revenue</th>\n",
       "    </tr>\n",
       "  </thead>\n",
       "  <tbody>\n",
       "    <tr>\n",
       "      <th>0</th>\n",
       "      <td> 237906</td>\n",
       "      <td> female</td>\n",
       "      <td> 21222</td>\n",
       "    </tr>\n",
       "    <tr>\n",
       "      <th>1</th>\n",
       "      <td> 967016</td>\n",
       "      <td>   male</td>\n",
       "      <td> 19140</td>\n",
       "    </tr>\n",
       "    <tr>\n",
       "      <th>2</th>\n",
       "      <td> 819010</td>\n",
       "      <td>   male</td>\n",
       "      <td> 14720</td>\n",
       "    </tr>\n",
       "  </tbody>\n",
       "</table>\n",
       "</div>"
      ],
      "text/plain": [
       "   customer_id  gender  revenue\n",
       "0       237906  female    21222\n",
       "1       967016    male    19140\n",
       "2       819010    male    14720"
      ]
     },
     "execution_count": 12,
     "metadata": {},
     "output_type": "execute_result"
    }
   ],
   "source": [
    "run('''\n",
    "    SELECT\n",
    "        S.customer_id,\n",
    "        C.gender,\n",
    "        S.revenue\n",
    "    FROM\n",
    "        sales_table AS S\n",
    "        JOIN cust_table AS C on S.customer_id = C.customer_id\n",
    "        LIMIT 3\n",
    "    ''')"
   ]
  },
  {
   "cell_type": "markdown",
   "metadata": {},
   "source": [
    "#Types of Joins"
   ]
  },
  {
   "cell_type": "code",
   "execution_count": 13,
   "metadata": {
    "collapsed": false
   },
   "outputs": [
    {
     "data": {
      "text/html": [
       "<div style=\"max-height:1000px;max-width:1500px;overflow:auto;\">\n",
       "<table border=\"1\" class=\"dataframe\">\n",
       "  <thead>\n",
       "    <tr style=\"text-align: right;\">\n",
       "      <th></th>\n",
       "      <th>Owner_Name</th>\n",
       "      <th>Dog_Name</th>\n",
       "    </tr>\n",
       "  </thead>\n",
       "  <tbody>\n",
       "    <tr>\n",
       "      <th>0</th>\n",
       "      <td> Michael Martinez</td>\n",
       "      <td> Chewbacca</td>\n",
       "    </tr>\n",
       "  </tbody>\n",
       "</table>\n",
       "</div>"
      ],
      "text/plain": [
       "         Owner_Name   Dog_Name\n",
       "0  Michael Martinez  Chewbacca"
      ]
     },
     "execution_count": 13,
     "metadata": {},
     "output_type": "execute_result"
    }
   ],
   "source": [
    "run('''\n",
    "    SELECT \n",
    "        *\n",
    "    FROM\n",
    "        Dog_Table\n",
    "        LIMIT 1\n",
    "        \n",
    "    ''') "
   ]
  },
  {
   "cell_type": "code",
   "execution_count": 14,
   "metadata": {
    "collapsed": false
   },
   "outputs": [
    {
     "data": {
      "text/html": [
       "<div style=\"max-height:1000px;max-width:1500px;overflow:auto;\">\n",
       "<table border=\"1\" class=\"dataframe\">\n",
       "  <thead>\n",
       "    <tr style=\"text-align: right;\">\n",
       "      <th></th>\n",
       "      <th>Owner_Name</th>\n",
       "      <th>Cat_Name</th>\n",
       "    </tr>\n",
       "  </thead>\n",
       "  <tbody>\n",
       "    <tr>\n",
       "      <th>0</th>\n",
       "      <td> Michael Martinez</td>\n",
       "      <td> Mrs. Paws</td>\n",
       "    </tr>\n",
       "  </tbody>\n",
       "</table>\n",
       "</div>"
      ],
      "text/plain": [
       "         Owner_Name   Cat_Name\n",
       "0  Michael Martinez  Mrs. Paws"
      ]
     },
     "execution_count": 14,
     "metadata": {},
     "output_type": "execute_result"
    }
   ],
   "source": [
    "run('''\n",
    "    SELECT \n",
    "        *\n",
    "    FROM\n",
    "        Cat_Table\n",
    "        LIMIT 1\n",
    "        \n",
    "    ''') "
   ]
  },
  {
   "cell_type": "markdown",
   "metadata": {},
   "source": [
    "##1) Inner Join"
   ]
  },
  {
   "cell_type": "code",
   "execution_count": 15,
   "metadata": {
    "collapsed": false
   },
   "outputs": [
    {
     "data": {
      "text/html": [
       "<div style=\"max-height:1000px;max-width:1500px;overflow:auto;\">\n",
       "<table border=\"1\" class=\"dataframe\">\n",
       "  <thead>\n",
       "    <tr style=\"text-align: right;\">\n",
       "      <th></th>\n",
       "      <th>Owner_Name</th>\n",
       "      <th>Dog_Name</th>\n",
       "      <th>Cat_Name</th>\n",
       "    </tr>\n",
       "  </thead>\n",
       "  <tbody>\n",
       "    <tr>\n",
       "      <th>0</th>\n",
       "      <td> Michael Martinez</td>\n",
       "      <td> Chewbacca</td>\n",
       "      <td>  Mrs. Paws</td>\n",
       "    </tr>\n",
       "    <tr>\n",
       "      <th>1</th>\n",
       "      <td>   Gilbert Henkel</td>\n",
       "      <td>       Max</td>\n",
       "      <td>    Mittens</td>\n",
       "    </tr>\n",
       "    <tr>\n",
       "      <th>2</th>\n",
       "      <td>       May Reeves</td>\n",
       "      <td>   Georgie</td>\n",
       "      <td>     Clover</td>\n",
       "    </tr>\n",
       "    <tr>\n",
       "      <th>3</th>\n",
       "      <td> Elizabeth Minier</td>\n",
       "      <td>     Sunny</td>\n",
       "      <td> Sweetcakes</td>\n",
       "    </tr>\n",
       "    <tr>\n",
       "      <th>4</th>\n",
       "      <td>        Donna Ona</td>\n",
       "      <td>     Daisy</td>\n",
       "      <td>     Barnie</td>\n",
       "    </tr>\n",
       "  </tbody>\n",
       "</table>\n",
       "</div>"
      ],
      "text/plain": [
       "         Owner_Name   Dog_Name    Cat_Name\n",
       "0  Michael Martinez  Chewbacca   Mrs. Paws\n",
       "1    Gilbert Henkel        Max     Mittens\n",
       "2        May Reeves    Georgie      Clover\n",
       "3  Elizabeth Minier      Sunny  Sweetcakes\n",
       "4         Donna Ona      Daisy      Barnie"
      ]
     },
     "execution_count": 15,
     "metadata": {},
     "output_type": "execute_result"
    }
   ],
   "source": [
    "run('''\n",
    "    SELECT\n",
    "        S.Owner_Name,\n",
    "        S.Dog_Name,\n",
    "        C.Cat_Name\n",
    "    FROM\n",
    "        Dog_Table AS S\n",
    "        JOIN Cat_Table AS C on S.Owner_Name = C.Owner_Name\n",
    "        \n",
    "    ''')"
   ]
  },
  {
   "cell_type": "markdown",
   "metadata": {},
   "source": [
    "##2)LEFT Join"
   ]
  },
  {
   "cell_type": "code",
   "execution_count": 16,
   "metadata": {
    "collapsed": false
   },
   "outputs": [
    {
     "data": {
      "text/html": [
       "<div style=\"max-height:1000px;max-width:1500px;overflow:auto;\">\n",
       "<table border=\"1\" class=\"dataframe\">\n",
       "  <thead>\n",
       "    <tr style=\"text-align: right;\">\n",
       "      <th></th>\n",
       "      <th>Owner_Name</th>\n",
       "      <th>Dog_Name</th>\n",
       "      <th>Cat_Name</th>\n",
       "    </tr>\n",
       "  </thead>\n",
       "  <tbody>\n",
       "    <tr>\n",
       "      <th>0</th>\n",
       "      <td> Michael Martinez</td>\n",
       "      <td> Chewbacca</td>\n",
       "      <td>  Mrs. Paws</td>\n",
       "    </tr>\n",
       "    <tr>\n",
       "      <th>1</th>\n",
       "      <td>   Gilbert Henkel</td>\n",
       "      <td>       Max</td>\n",
       "      <td>    Mittens</td>\n",
       "    </tr>\n",
       "    <tr>\n",
       "      <th>2</th>\n",
       "      <td>       May Reeves</td>\n",
       "      <td>   Georgie</td>\n",
       "      <td>     Clover</td>\n",
       "    </tr>\n",
       "    <tr>\n",
       "      <th>3</th>\n",
       "      <td> Elizabeth Minier</td>\n",
       "      <td>     Sunny</td>\n",
       "      <td> Sweetcakes</td>\n",
       "    </tr>\n",
       "    <tr>\n",
       "      <th>4</th>\n",
       "      <td>        Donna Ona</td>\n",
       "      <td>     Daisy</td>\n",
       "      <td>     Barnie</td>\n",
       "    </tr>\n",
       "    <tr>\n",
       "      <th>5</th>\n",
       "      <td>     Daniel Abner</td>\n",
       "      <td>      Jake</td>\n",
       "      <td>           </td>\n",
       "    </tr>\n",
       "    <tr>\n",
       "      <th>6</th>\n",
       "      <td>     Keith Bursey</td>\n",
       "      <td>    Muffin</td>\n",
       "      <td>           </td>\n",
       "    </tr>\n",
       "    <tr>\n",
       "      <th>7</th>\n",
       "      <td>      Jane Garcia</td>\n",
       "      <td>   Admiral</td>\n",
       "      <td>           </td>\n",
       "    </tr>\n",
       "    <tr>\n",
       "      <th>8</th>\n",
       "      <td>     Sarah Flores</td>\n",
       "      <td>     Bogie</td>\n",
       "      <td>           </td>\n",
       "    </tr>\n",
       "    <tr>\n",
       "      <th>9</th>\n",
       "      <td>      David Brace</td>\n",
       "      <td>     Fritz</td>\n",
       "      <td>           </td>\n",
       "    </tr>\n",
       "  </tbody>\n",
       "</table>\n",
       "</div>"
      ],
      "text/plain": [
       "         Owner_Name   Dog_Name    Cat_Name\n",
       "0  Michael Martinez  Chewbacca   Mrs. Paws\n",
       "1    Gilbert Henkel        Max     Mittens\n",
       "2        May Reeves    Georgie      Clover\n",
       "3  Elizabeth Minier      Sunny  Sweetcakes\n",
       "4         Donna Ona      Daisy      Barnie\n",
       "5      Daniel Abner       Jake            \n",
       "6      Keith Bursey     Muffin            \n",
       "7       Jane Garcia    Admiral            \n",
       "8      Sarah Flores      Bogie            \n",
       "9       David Brace      Fritz            "
      ]
     },
     "execution_count": 16,
     "metadata": {},
     "output_type": "execute_result"
    }
   ],
   "source": [
    "run('''\n",
    "    SELECT\n",
    "        S.Owner_Name,\n",
    "        S.Dog_Name,\n",
    "        C.Cat_Name\n",
    "    FROM\n",
    "        Dog_Table AS S\n",
    "        LEFT JOIN Cat_Table AS C on S.Owner_Name = C.Owner_Name\n",
    "        \n",
    "    ''')"
   ]
  },
  {
   "cell_type": "markdown",
   "metadata": {},
   "source": [
    "##3) RIGHT Join"
   ]
  },
  {
   "cell_type": "code",
   "execution_count": 17,
   "metadata": {
    "collapsed": false
   },
   "outputs": [
    {
     "data": {
      "text/html": [
       "<div style=\"max-height:1000px;max-width:1500px;overflow:auto;\">\n",
       "<table border=\"1\" class=\"dataframe\">\n",
       "  <thead>\n",
       "    <tr style=\"text-align: right;\">\n",
       "      <th></th>\n",
       "      <th>Owner_Name</th>\n",
       "      <th>Dog_Name</th>\n",
       "      <th>Cat_Name</th>\n",
       "    </tr>\n",
       "  </thead>\n",
       "  <tbody>\n",
       "    <tr>\n",
       "      <th>0</th>\n",
       "      <td> Michael Martinez</td>\n",
       "      <td> Chewbacca</td>\n",
       "      <td>  Mrs. Paws</td>\n",
       "    </tr>\n",
       "    <tr>\n",
       "      <th>1</th>\n",
       "      <td>   Gilbert Henkel</td>\n",
       "      <td>       Max</td>\n",
       "      <td>    Mittens</td>\n",
       "    </tr>\n",
       "    <tr>\n",
       "      <th>2</th>\n",
       "      <td>       May Reeves</td>\n",
       "      <td>   Georgie</td>\n",
       "      <td>     Clover</td>\n",
       "    </tr>\n",
       "    <tr>\n",
       "      <th>3</th>\n",
       "      <td> Elizabeth Minier</td>\n",
       "      <td>     Sunny</td>\n",
       "      <td> Sweetcakes</td>\n",
       "    </tr>\n",
       "    <tr>\n",
       "      <th>4</th>\n",
       "      <td>        Donna Ona</td>\n",
       "      <td>     Daisy</td>\n",
       "      <td>     Barnie</td>\n",
       "    </tr>\n",
       "    <tr>\n",
       "      <th>5</th>\n",
       "      <td>     Daniel Abner</td>\n",
       "      <td>      Jake</td>\n",
       "      <td>           </td>\n",
       "    </tr>\n",
       "    <tr>\n",
       "      <th>6</th>\n",
       "      <td>     Keith Bursey</td>\n",
       "      <td>    Muffin</td>\n",
       "      <td>           </td>\n",
       "    </tr>\n",
       "    <tr>\n",
       "      <th>7</th>\n",
       "      <td>      Jane Garcia</td>\n",
       "      <td>   Admiral</td>\n",
       "      <td>           </td>\n",
       "    </tr>\n",
       "    <tr>\n",
       "      <th>8</th>\n",
       "      <td>     Sarah Flores</td>\n",
       "      <td>     Bogie</td>\n",
       "      <td>           </td>\n",
       "    </tr>\n",
       "    <tr>\n",
       "      <th>9</th>\n",
       "      <td>      David Brace</td>\n",
       "      <td>     Fritz</td>\n",
       "      <td>           </td>\n",
       "    </tr>\n",
       "  </tbody>\n",
       "</table>\n",
       "</div>"
      ],
      "text/plain": [
       "         Owner_Name   Dog_Name    Cat_Name\n",
       "0  Michael Martinez  Chewbacca   Mrs. Paws\n",
       "1    Gilbert Henkel        Max     Mittens\n",
       "2        May Reeves    Georgie      Clover\n",
       "3  Elizabeth Minier      Sunny  Sweetcakes\n",
       "4         Donna Ona      Daisy      Barnie\n",
       "5      Daniel Abner       Jake            \n",
       "6      Keith Bursey     Muffin            \n",
       "7       Jane Garcia    Admiral            \n",
       "8      Sarah Flores      Bogie            \n",
       "9       David Brace      Fritz            "
      ]
     },
     "execution_count": 17,
     "metadata": {},
     "output_type": "execute_result"
    }
   ],
   "source": [
    "run('''\n",
    "    SELECT\n",
    "        S.Owner_Name,\n",
    "        S.Dog_Name,\n",
    "        C.Cat_Name\n",
    "    FROM\n",
    "        Dog_Table AS S\n",
    "        left JOIN Cat_Table AS C on S.Owner_Name = C.Owner_Name\n",
    "        \n",
    "    ''')"
   ]
  },
  {
   "cell_type": "markdown",
   "metadata": {
    "collapsed": true
   },
   "source": [
    "#Big Join"
   ]
  },
  {
   "cell_type": "code",
   "execution_count": 18,
   "metadata": {
    "collapsed": false
   },
   "outputs": [
    {
     "data": {
      "text/html": [
       "<div style=\"max-height:1000px;max-width:1500px;overflow:auto;\">\n",
       "<table border=\"1\" class=\"dataframe\">\n",
       "  <thead>\n",
       "    <tr style=\"text-align: right;\">\n",
       "      <th></th>\n",
       "      <th>make</th>\n",
       "      <th>model</th>\n",
       "      <th>revenue</th>\n",
       "      <th>gender</th>\n",
       "      <th>first_name</th>\n",
       "    </tr>\n",
       "  </thead>\n",
       "  <tbody>\n",
       "    <tr>\n",
       "      <th>0</th>\n",
       "      <td> Toyota</td>\n",
       "      <td>   Tundra</td>\n",
       "      <td> 21222</td>\n",
       "      <td> female</td>\n",
       "      <td>   Joseph</td>\n",
       "    </tr>\n",
       "    <tr>\n",
       "      <th>1</th>\n",
       "      <td> Subaru</td>\n",
       "      <td>  Outback</td>\n",
       "      <td> 18671</td>\n",
       "      <td> female</td>\n",
       "      <td>    Elton</td>\n",
       "    </tr>\n",
       "    <tr>\n",
       "      <th>2</th>\n",
       "      <td> Toyota</td>\n",
       "      <td>    Camry</td>\n",
       "      <td> 20460</td>\n",
       "      <td> female</td>\n",
       "      <td>    Jared</td>\n",
       "    </tr>\n",
       "    <tr>\n",
       "      <th>3</th>\n",
       "      <td> Subaru</td>\n",
       "      <td> Forester</td>\n",
       "      <td> 17312</td>\n",
       "      <td> female</td>\n",
       "      <td>  Matthew</td>\n",
       "    </tr>\n",
       "    <tr>\n",
       "      <th>4</th>\n",
       "      <td> Subaru</td>\n",
       "      <td>  Outback</td>\n",
       "      <td> 19418</td>\n",
       "      <td> female</td>\n",
       "      <td> Claudine</td>\n",
       "    </tr>\n",
       "  </tbody>\n",
       "</table>\n",
       "</div>"
      ],
      "text/plain": [
       "     make     model  revenue  gender first_name\n",
       "0  Toyota    Tundra    21222  female     Joseph\n",
       "1  Subaru   Outback    18671  female      Elton\n",
       "2  Toyota     Camry    20460  female      Jared\n",
       "3  Subaru  Forester    17312  female    Matthew\n",
       "4  Subaru   Outback    19418  female   Claudine"
      ]
     },
     "execution_count": 18,
     "metadata": {},
     "output_type": "execute_result"
    }
   ],
   "source": [
    "run('''\n",
    "    SELECT\n",
    "        C.make,\n",
    "        C.model, \n",
    "        S.revenue,\n",
    "        CUST.gender,\n",
    "        SM.first_name\n",
    "    FROM\n",
    "        sales_table S\n",
    "        JOIN car_table C\n",
    "        JOIN salesman_table SM\n",
    "        JOIN cust_table CUST\n",
    "    WHERE\n",
    "        S.customer_id = CUST.customer_id\n",
    "        AND S.model_id = C.model_id\n",
    "        AND S.salesman_id = SM.id\n",
    "        AND (C.model in ('Tundra', 'Camry', 'Corolla') OR C.make = 'Subaru')\n",
    "        AND S.revenue between 17000 and 22000\n",
    "        AND CUST.gender = 'female' \n",
    "        AND SM.first_name NOT IN ('Kathleen', 'Samantha')\n",
    "    LIMIT 5\n",
    "    ''')"
   ]
  },
  {
   "cell_type": "markdown",
   "metadata": {},
   "source": [
    "#Operators"
   ]
  },
  {
   "cell_type": "code",
   "execution_count": 19,
   "metadata": {
    "collapsed": false
   },
   "outputs": [
    {
     "data": {
      "text/html": [
       "<div style=\"max-height:1000px;max-width:1500px;overflow:auto;\">\n",
       "<table border=\"1\" class=\"dataframe\">\n",
       "  <thead>\n",
       "    <tr style=\"text-align: right;\">\n",
       "      <th></th>\n",
       "      <th>total_gross_profit</th>\n",
       "    </tr>\n",
       "  </thead>\n",
       "  <tbody>\n",
       "    <tr>\n",
       "      <th>0</th>\n",
       "      <td> $ 596814.0</td>\n",
       "    </tr>\n",
       "  </tbody>\n",
       "</table>\n",
       "</div>"
      ],
      "text/plain": [
       "  total_gross_profit\n",
       "0         $ 596814.0"
      ]
     },
     "execution_count": 19,
     "metadata": {},
     "output_type": "execute_result"
    }
   ],
   "source": [
    "run('''\n",
    "    SELECT\n",
    "        '$ ' || SUM(S.revenue - C.cogs) total_gross_profit\n",
    "    FROM\n",
    "        sales_table S\n",
    "        JOIN car_table C on S.model_id = C.model_id \n",
    "    ''') "
   ]
  },
  {
   "cell_type": "markdown",
   "metadata": {},
   "source": [
    "#Group_By"
   ]
  },
  {
   "cell_type": "code",
   "execution_count": 26,
   "metadata": {
    "collapsed": false
   },
   "outputs": [
    {
     "data": {
      "text/html": [
       "<div style=\"max-height:1000px;max-width:1500px;overflow:auto;\">\n",
       "<table border=\"1\" class=\"dataframe\">\n",
       "  <thead>\n",
       "    <tr style=\"text-align: right;\">\n",
       "      <th></th>\n",
       "      <th>Car_Model</th>\n",
       "      <th>Total_Revenue</th>\n",
       "    </tr>\n",
       "  </thead>\n",
       "  <tbody>\n",
       "    <tr>\n",
       "      <th>0</th>\n",
       "      <td>   Accord</td>\n",
       "      <td> 234748</td>\n",
       "    </tr>\n",
       "    <tr>\n",
       "      <th>1</th>\n",
       "      <td>    Camry</td>\n",
       "      <td> 212080</td>\n",
       "    </tr>\n",
       "    <tr>\n",
       "      <th>2</th>\n",
       "      <td>    Civic</td>\n",
       "      <td> 157886</td>\n",
       "    </tr>\n",
       "    <tr>\n",
       "      <th>3</th>\n",
       "      <td>  Corolla</td>\n",
       "      <td> 154880</td>\n",
       "    </tr>\n",
       "    <tr>\n",
       "      <th>4</th>\n",
       "      <td> Forester</td>\n",
       "      <td> 201083</td>\n",
       "    </tr>\n",
       "  </tbody>\n",
       "</table>\n",
       "</div>"
      ],
      "text/plain": [
       "  Car_Model  Total_Revenue\n",
       "0    Accord         234748\n",
       "1     Camry         212080\n",
       "2     Civic         157886\n",
       "3   Corolla         154880\n",
       "4  Forester         201083"
      ]
     },
     "execution_count": 26,
     "metadata": {},
     "output_type": "execute_result"
    }
   ],
   "source": [
    "run('''\n",
    "    SELECT\n",
    "        C.model AS Car_Model, \n",
    "        SUM(S.revenue) AS Total_Revenue\n",
    "    FROM\n",
    "        sales_table S\n",
    "        JOIN car_table C on S.model_id = C.model_id\n",
    "    GROUP BY\n",
    "        Car_Model\n",
    "        LIMIT 5\n",
    "    ''')"
   ]
  },
  {
   "cell_type": "code",
   "execution_count": 30,
   "metadata": {
    "collapsed": false
   },
   "outputs": [
    {
     "data": {
      "text/html": [
       "<div style=\"max-height:1000px;max-width:1500px;overflow:auto;\">\n",
       "<table border=\"1\" class=\"dataframe\">\n",
       "  <thead>\n",
       "    <tr style=\"text-align: right;\">\n",
       "      <th></th>\n",
       "      <th>Car_Model</th>\n",
       "      <th>Min_to_Max_Sale</th>\n",
       "      <th>Range</th>\n",
       "      <th>Average_Sale</th>\n",
       "    </tr>\n",
       "  </thead>\n",
       "  <tbody>\n",
       "    <tr>\n",
       "      <th>0</th>\n",
       "      <td>   Tundra</td>\n",
       "      <td> 20174 - 25938</td>\n",
       "      <td> 5764</td>\n",
       "      <td> 22859.44</td>\n",
       "    </tr>\n",
       "    <tr>\n",
       "      <th>1</th>\n",
       "      <td>    Prius</td>\n",
       "      <td> 18150 - 23958</td>\n",
       "      <td> 5808</td>\n",
       "      <td> 21244.14</td>\n",
       "    </tr>\n",
       "    <tr>\n",
       "      <th>2</th>\n",
       "      <td>  Outback</td>\n",
       "      <td> 18671 - 24646</td>\n",
       "      <td> 5975</td>\n",
       "      <td> 21160.40</td>\n",
       "    </tr>\n",
       "    <tr>\n",
       "      <th>3</th>\n",
       "      <td>   Accord</td>\n",
       "      <td> 17020 - 21441</td>\n",
       "      <td> 4421</td>\n",
       "      <td> 19562.33</td>\n",
       "    </tr>\n",
       "    <tr>\n",
       "      <th>4</th>\n",
       "      <td>    Camry</td>\n",
       "      <td> 16720 - 21780</td>\n",
       "      <td> 5060</td>\n",
       "      <td> 19280.00</td>\n",
       "    </tr>\n",
       "    <tr>\n",
       "      <th>5</th>\n",
       "      <td> Forester</td>\n",
       "      <td> 16646 - 21751</td>\n",
       "      <td> 5105</td>\n",
       "      <td> 18280.27</td>\n",
       "    </tr>\n",
       "    <tr>\n",
       "      <th>6</th>\n",
       "      <td>    Civic</td>\n",
       "      <td> 13642 - 18008</td>\n",
       "      <td> 4366</td>\n",
       "      <td> 15788.60</td>\n",
       "    </tr>\n",
       "    <tr>\n",
       "      <th>7</th>\n",
       "      <td>  Corolla</td>\n",
       "      <td> 12640 - 15360</td>\n",
       "      <td> 2720</td>\n",
       "      <td> 14080.00</td>\n",
       "    </tr>\n",
       "  </tbody>\n",
       "</table>\n",
       "</div>"
      ],
      "text/plain": [
       "  Car_Model Min_to_Max_Sale  Range  Average_Sale\n",
       "0    Tundra   20174 - 25938   5764      22859.44\n",
       "1     Prius   18150 - 23958   5808      21244.14\n",
       "2   Outback   18671 - 24646   5975      21160.40\n",
       "3    Accord   17020 - 21441   4421      19562.33\n",
       "4     Camry   16720 - 21780   5060      19280.00\n",
       "5  Forester   16646 - 21751   5105      18280.27\n",
       "6     Civic   13642 - 18008   4366      15788.60\n",
       "7   Corolla   12640 - 15360   2720      14080.00"
      ]
     },
     "execution_count": 30,
     "metadata": {},
     "output_type": "execute_result"
    }
   ],
   "source": [
    "run('''\n",
    "    SELECT\n",
    "        C.model AS Car_Model, \n",
    "        MIN(S.revenue) || ' - ' || MAX(S.revenue) AS Min_to_Max_Sale,\n",
    "        MAX(S.revenue) - MIN(S.revenue) AS Range,\n",
    "        ROUND(AVG(S.revenue), 2) AS Average_Sale\n",
    "    FROM\n",
    "        sales_table S\n",
    "        JOIN car_table C on S.model_id = C.model_id \n",
    "    GROUP BY\n",
    "        Car_Model\n",
    "    ORDER BY\n",
    "        Average_Sale DESC\n",
    "    ''')"
   ]
  },
  {
   "cell_type": "markdown",
   "metadata": {},
   "source": [
    "#Multi-Group By"
   ]
  },
  {
   "cell_type": "code",
   "execution_count": 31,
   "metadata": {
    "collapsed": false
   },
   "outputs": [
    {
     "data": {
      "text/html": [
       "<div style=\"max-height:1000px;max-width:1500px;overflow:auto;\">\n",
       "<table border=\"1\" class=\"dataframe\">\n",
       "  <thead>\n",
       "    <tr style=\"text-align: right;\">\n",
       "      <th></th>\n",
       "      <th>car_caker</th>\n",
       "      <th>payment_type</th>\n",
       "      <th>avg_revenue</th>\n",
       "    </tr>\n",
       "  </thead>\n",
       "  <tbody>\n",
       "    <tr>\n",
       "      <th>0</th>\n",
       "      <td>  Honda</td>\n",
       "      <td>    cash</td>\n",
       "      <td> 17028</td>\n",
       "    </tr>\n",
       "    <tr>\n",
       "      <th>1</th>\n",
       "      <td>  Honda</td>\n",
       "      <td> finance</td>\n",
       "      <td> 19030</td>\n",
       "    </tr>\n",
       "    <tr>\n",
       "      <th>2</th>\n",
       "      <td> Subaru</td>\n",
       "      <td>    cash</td>\n",
       "      <td> 19581</td>\n",
       "    </tr>\n",
       "    <tr>\n",
       "      <th>3</th>\n",
       "      <td> Subaru</td>\n",
       "      <td> finance</td>\n",
       "      <td> 20363</td>\n",
       "    </tr>\n",
       "    <tr>\n",
       "      <th>4</th>\n",
       "      <td> Toyota</td>\n",
       "      <td>    cash</td>\n",
       "      <td> 20437</td>\n",
       "    </tr>\n",
       "    <tr>\n",
       "      <th>5</th>\n",
       "      <td> Toyota</td>\n",
       "      <td> finance</td>\n",
       "      <td> 19183</td>\n",
       "    </tr>\n",
       "  </tbody>\n",
       "</table>\n",
       "</div>"
      ],
      "text/plain": [
       "  car_caker payment_type  avg_revenue\n",
       "0     Honda         cash        17028\n",
       "1     Honda      finance        19030\n",
       "2    Subaru         cash        19581\n",
       "3    Subaru      finance        20363\n",
       "4    Toyota         cash        20437\n",
       "5    Toyota      finance        19183"
      ]
     },
     "execution_count": 31,
     "metadata": {},
     "output_type": "execute_result"
    }
   ],
   "source": [
    "run('''\n",
    "    SELECT\n",
    "        C.make AS car_caker, \n",
    "        payment_type,\n",
    "        ROUND(AVG(revenue)) as avg_revenue\n",
    "    FROM\n",
    "        sales_table S\n",
    "        JOIN car_table C on S.model_id = C.model_id \n",
    "    GROUP BY\n",
    "        C.Make, \n",
    "        payment_type\n",
    "    ''')"
   ]
  },
  {
   "cell_type": "markdown",
   "metadata": {},
   "source": [
    "#Having"
   ]
  },
  {
   "cell_type": "code",
   "execution_count": 32,
   "metadata": {
    "collapsed": false
   },
   "outputs": [
    {
     "data": {
      "text/html": [
       "<div style=\"max-height:1000px;max-width:1500px;overflow:auto;\">\n",
       "<table border=\"1\" class=\"dataframe\">\n",
       "  <thead>\n",
       "    <tr style=\"text-align: right;\">\n",
       "      <th></th>\n",
       "      <th>Car_Maker</th>\n",
       "      <th>Total_Revenue</th>\n",
       "    </tr>\n",
       "  </thead>\n",
       "  <tbody>\n",
       "    <tr>\n",
       "      <th>0</th>\n",
       "      <td> Subaru</td>\n",
       "      <td>  518489</td>\n",
       "    </tr>\n",
       "    <tr>\n",
       "      <th>1</th>\n",
       "      <td> Toyota</td>\n",
       "      <td> 1030129</td>\n",
       "    </tr>\n",
       "  </tbody>\n",
       "</table>\n",
       "</div>"
      ],
      "text/plain": [
       "  Car_Maker  Total_Revenue\n",
       "0    Subaru         518489\n",
       "1    Toyota        1030129"
      ]
     },
     "execution_count": 32,
     "metadata": {},
     "output_type": "execute_result"
    }
   ],
   "source": [
    "run('''\n",
    "    SELECT\n",
    "        C.Make as Car_Maker, \n",
    "        SUM(revenue) as Total_Revenue\n",
    "    FROM\n",
    "        sales_table S\n",
    "        JOIN car_table C on S.model_id = C.model_id\n",
    "    GROUP BY\n",
    "        Car_Maker HAVING Total_Revenue > 500000\n",
    "    ''')"
   ]
  },
  {
   "cell_type": "code",
   "execution_count": null,
   "metadata": {
    "collapsed": true
   },
   "outputs": [],
   "source": []
  }
 ],
 "metadata": {
  "kernelspec": {
   "display_name": "Python 2",
   "language": "python",
   "name": "python2"
  },
  "language_info": {
   "codemirror_mode": {
    "name": "ipython",
    "version": 2
   },
   "file_extension": ".py",
   "mimetype": "text/x-python",
   "name": "python",
   "nbconvert_exporter": "python",
   "pygments_lexer": "ipython2",
   "version": "2.7.7"
  }
 },
 "nbformat": 4,
 "nbformat_minor": 0
}
